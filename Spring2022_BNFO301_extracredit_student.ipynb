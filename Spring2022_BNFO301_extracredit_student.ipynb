{
  "nbformat": 4,
  "nbformat_minor": 0,
  "metadata": {
    "kernelspec": {
      "display_name": "Python 3",
      "language": "python",
      "name": "python3"
    },
    "language_info": {
      "codemirror_mode": {
        "name": "ipython",
        "version": 3
      },
      "file_extension": ".py",
      "mimetype": "text/x-python",
      "name": "python",
      "nbconvert_exporter": "python",
      "pygments_lexer": "ipython3",
      "version": "3.7.4"
    },
    "colab": {
      "name": "Spring2022_BNFO301_extracredit_student.ipynb",
      "provenance": [],
      "collapsed_sections": [],
      "include_colab_link": true
    }
  },
  "cells": [
    {
      "cell_type": "markdown",
      "metadata": {
        "id": "view-in-github",
        "colab_type": "text"
      },
      "source": [
        "<a href=\"https://colab.research.google.com/github/Kim-aramb/BNFO301_Arambula_Kimberly-/blob/main/Spring2022_BNFO301_extracredit_student.ipynb\" target=\"_parent\"><img src=\"https://colab.research.google.com/assets/colab-badge.svg\" alt=\"Open In Colab\"/></a>"
      ]
    },
    {
      "cell_type": "markdown",
      "metadata": {
        "id": "CV8ltn7IuWLR"
      },
      "source": [
        "<h1>BNFO301 ExtraCredit Homework Assignment </h1>\n",
        "\n",
        "In this assignment, you will be 4 questions, worth 5 points each (20 points total).  Please refere to the lecture give on 4/18 for an introduction to basic concepts covered in this assignment.\n",
        "\n",
        "\n",
        "\n"
      ]
    },
    {
      "cell_type": "markdown",
      "metadata": {
        "id": "CM7DEBptKwuv"
      },
      "source": [
        "### Setup\n",
        "Read the Sequence Data File.  Leave this as is and run."
      ]
    },
    {
      "cell_type": "code",
      "metadata": {
        "id": "2zD28BXq0bRi",
        "colab": {
          "base_uri": "https://localhost:8080/"
        },
        "outputId": "936518e0-5876-4fb3-b9a2-6366f75d27bd"
      },
      "source": [
        "import os.path\n",
        "# Load the genbank file \n",
        "DATA_FILE_GITHUB = \"https://raw.githubusercontent.com/MusBansal/BNFO301Data/main/SampleFqfile.fq\"\n",
        "DEFAULT_FILE_NAME = 'SampleFqfile.fq'\n",
        "fileName = DEFAULT_FILE_NAME\n",
        "#Does the file exists locally, if not get it from the github\n",
        "if not os.path.exists(fileName):\n",
        "  #Load the file from Github to the local folder\n",
        "  !wget --no-check-certificate --content-disposition $DATA_FILE_GITHUB\n",
        "   \n",
        "print(\"Reading file:\", fileName)\n"
      ],
      "execution_count": 8,
      "outputs": [
        {
          "output_type": "stream",
          "name": "stdout",
          "text": [
            "Reading file: SampleFqfile.fq\n"
          ]
        }
      ]
    },
    {
      "cell_type": "markdown",
      "metadata": {
        "id": "WIDxNNSDz1pE"
      },
      "source": [
        "###Problem 1\n",
        "\n",
        "Read in the sequences and return header all the squences and scores<br>\n",
        "\n"
      ]
    },
    {
      "cell_type": "markdown",
      "metadata": {
        "id": "VtmJZkOVsUPJ"
      },
      "source": [
        "a) Creat sequence class to represent a sequence, it's header and score."
      ]
    },
    {
      "cell_type": "code",
      "metadata": {
        "id": "np4qBU_jLTht",
        "colab": {
          "base_uri": "https://localhost:8080/"
        },
        "outputId": "6da7dc17-8c72-4b9b-c2d5-af90ae600b43"
      },
      "source": [
        "class Sequences:\n",
        "    seq = \"\"\n",
        "    header = \"\"\n",
        "    score = None\n",
        "    \n",
        "    #complete the definition, some elements are provide while other are missing\n",
        "    def __init__(self, seq, header, score ):\n",
        "        self.seq = seq\n",
        "        self.header = header\n",
        "        self.score = score\n",
        "\n",
        "\n",
        "\n",
        "    #create the string \"use + to join elements and make the look like the example eg. \"Header:\" + self.header + \"\\n\" \"\n",
        "    def __str__(self):\n",
        "        s = \"Header:\" + self.seq + \"\\n\" + \"Sequence:\" + self.header  + \"\\n\" + \"Score: \" + self.score + \"\\n\" \n",
        "\n",
        "        return s\n",
        "\n",
        "a1 = Sequences(\"@head1\",\"ACCTG\",\"FF:FF\")\n",
        "print(a1)"
      ],
      "execution_count": 9,
      "outputs": [
        {
          "output_type": "stream",
          "name": "stdout",
          "text": [
            "Header:@head1\n",
            "Sequence:ACCTG\n",
            "Score: FF:FF\n",
            "\n"
          ]
        }
      ]
    },
    {
      "cell_type": "markdown",
      "metadata": {
        "id": "6FrAuraJs5Qo"
      },
      "source": [
        "**b**) Create a definition to read the FASTQ file and return a list containing the header,DNA_sequence,Phred_scores.  Recall that ASCII encoded scores include \"@\" and \"+\".  Unlike reading in fasta formated files, we simply state that the line begins with \">\".  I find it is useful to create a flag.  This allows me to be informed about line order.\n",
        "\n",
        "Here is an example, the Last List Object:\n",
        "\n",
        "\"Header:@A00835:187:HKWNMDSXY:1:1101:29008:1000 1:N:0:CCGCGGTT+CTAGCGCT\n",
        "\n",
        "Sequence:CGGAAAGTTGGGTAGGGGGAGGGAGGGAGTGACATGGTTTTTTAAAAGCAAATTTTCCTTTTTGGGTTGAGCAAACCTCGTTACGTTGTGTGTGTTTTGTTTCTTTGTGTGGCGGGTGTCAGGCTTGCTTAATTTTGAACCGCTCAGTAT\n",
        "\n",
        "Score   :FFFFFFFFFFFFFFFFFFFFFFFFFFFFFFFFFFFFFFFFFFFFFFFFFFFFFFFFFF:FFFFFFFFFFFFFFFFFFFFFFFFFF:FFFFFFFFFFFFFFFFFFFFFFFFFFFFFFFFFFFFFFFFFFFFFFFFFFFFFF:FFFFFFFFF\""
      ]
    },
    {
      "cell_type": "code",
      "metadata": {
        "id": "MnUO_nZTseSy",
        "colab": {
          "base_uri": "https://localhost:8080/"
        },
        "outputId": "aefe4bea-55a5-4d61-8c21-f54b46b2983a"
      },
      "source": [
        "#Read the FASTAScore file\n",
        "#Create function to load the file in a list of sequences\n",
        "def LoadFastq(filepath):  #\n",
        "    #create some useful variables that contain characters that start the lines\n",
        "    HEADER_Start_Char = \"@\"\n",
        "    Score_Separator = \"+\"\n",
        "    fh = open(filepath, \"r\")\n",
        "    data = fh.readlines()\n",
        "    fh.close()\n",
        "    #define list, \"sequenceList\"\n",
        "    sequenceList = []\n",
        "    #define global variables, including your flag\n",
        "    flag = \"False\"\n",
        "    header = \"\"\n",
        "    sequence = \"\"\n",
        "    score = \"\"\n",
        "    #create a loop to read through the lines\n",
        "    for line in data: \n",
        "       #use conditional statements to store elements from the fastq formated file\n",
        "      if line[0] == HEADER_Start_Char:\n",
        "        header = line.strip()\n",
        "        sequence = ''\n",
        "        score_flag = False\n",
        "        continue\n",
        "      elif line[0] == Score_Separator:\n",
        "        score_flag = True\n",
        "        continue\n",
        "      elif score_flag == True:\n",
        "        score = line.strip()\n",
        "        sequenceList.append(Sequences(header, sequence, score))\n",
        "      elsesequence = line.strip()\n",
        " \n",
        "             #append the list \"sequenceList\" using \"Sequences\" created in part A\n",
        "        \n",
        "    return sequenceList\n",
        "\n",
        "\n",
        "#readFile\n",
        "seqList = LoadFastq(fileName)\n",
        "\n",
        "#print \n",
        "print(\"Read \" + str(len(seqList)) + \" sequences.\")\n",
        "\n",
        "#printing last sequence\n",
        "print (\"\\nLast Sequence Object:\")\n",
        "print(seqList[-1])\n",
        "\n",
        "\n"
      ],
      "execution_count": 13,
      "outputs": [
        {
          "output_type": "stream",
          "name": "stdout",
          "text": [
            "Read 25 sequences.\n",
            "\n",
            "Last Sequence Object:\n",
            "Header:@A00835:187:HKWNMDSXY:1:1101:29008:1000 1:N:0:CCGCGGTT+CTAGCGCT\n",
            "Sequence:\n",
            "Score: FFFFFFFFFFFFFFFFFFFFFFFFFFFFFFFFFFFFFFFFFFFFFFFFFFFFFFFFFF:FFFFFFFFFFFFFFFFFFFFFFFFFF:FFFFFFFFFFFFFFFFFFFFFFFFFFFFFFFFFFFFFFFFFFFFFFFFFFFFFF:FFFFFFFFF\n",
            "\n"
          ]
        }
      ]
    },
    {
      "cell_type": "markdown",
      "metadata": {
        "id": "RNOm5nBGRDYi"
      },
      "source": [
        "### Problem 2\n",
        "Create a definition to return the \"Quality Score.\"  Illumina encodes the Quality score using ASCII character + 33.  You can use the ord function (for example \"ord(A)\" should return 65) to find the value associated with a character and substract 33 to get the Phred score (therefore, A = 32). <br>\n",
        "\n",
        "Here is a list of characters and their score: https://support.illumina.com/help/BaseSpace_OLH_009008/Content/Source/Informatics/BS/QualityScoreEncoding_swBS.htm"
      ]
    },
    {
      "cell_type": "code",
      "metadata": {
        "colab": {
          "base_uri": "https://localhost:8080/"
        },
        "id": "o6gGqqYmRbhb",
        "outputId": "e68320f4-22e9-4e01-946f-f8b7c7f6da32"
      },
      "source": [
        "def findQScore(c):\n",
        "    #return the score\n",
        "    c = c \n",
        "    character = ord(c)\n",
        "    PhredScore = character - 33\n",
        "    return PhredScore\n",
        "\n",
        "\n",
        "print(\"Q score for A is \" + str(findQScore(\"A\")))"
      ],
      "execution_count": 12,
      "outputs": [
        {
          "output_type": "stream",
          "name": "stdout",
          "text": [
            "Q score for A is 32\n"
          ]
        }
      ]
    },
    {
      "cell_type": "markdown",
      "metadata": {
        "id": "ODLfafzBgaxr"
      },
      "source": [
        "###  Problem 3\n",
        "\n",
        "Soft-trim the 3' end of reads based on Quality score.  Starting with the 3' base, remove any base with a score below 28.  Use a sliding window of 1 base and stop trimming when you reach a base with a score > 28.  You only need to trim the sequence line itself.  You do not need to trim the \"Quality line\"."
      ]
    },
    {
      "cell_type": "code",
      "metadata": {
        "id": "faPqFX4uvoBW",
        "colab": {
          "base_uri": "https://localhost:8080/",
          "height": 133
        },
        "outputId": "84efbf25-4b2c-4165-ad49-cde21f27ef1e"
      },
      "source": [
        "def truncateBasedOnQScore(seqObject, compareScore= 28) :\n",
        "    #find the length of \"seq\"\n",
        " seql = len(seqObject.seq)\n",
        "    #set your trimming point to \"None\"\n",
        " trimpoint = None\n",
        "    #Create a loop using range and length and -1 find the \"trim point\" and store the point\n",
        " for i in range(seql -1, -1, -1 ):\n",
        "        #create a variable to stor the score\n",
        "  scores = \"\"\n",
        "        #create a conditional statement to determine if the current score is less than 28\n",
        "  if len(scores) <= 28:\n",
        "      integer = trim\n",
        "      else:\n",
        "            #if less than, save the \"trim point\" an intiger.  If not, \"break\"\n",
        "            \n",
        "            break\n",
        "    #Create a conditional statement.  If the trim point is \"None\", return the sequence.  \n",
        " if trimpoint == None\n",
        "        return seqObject\n",
        "    #Else trim the sequence and return the sequence\n",
        " else:\n",
        "        return \n",
        "\n",
        "#use your class statement\n",
        "a1 = Sequences(\"head1\",\"ACCTG\", \"FF:FF\")\n",
        "print(a1)\n",
        "\n",
        "#call the definition\n",
        "truncSeq = truncateBasedOnQScore(a1, 28)\n",
        "print(\"Trunc   :\" + truncSeq)"
      ],
      "execution_count": 18,
      "outputs": [
        {
          "output_type": "error",
          "ename": "SyntaxError",
          "evalue": "ignored",
          "traceback": [
            "\u001b[0;36m  File \u001b[0;32m\"<ipython-input-18-2c17b4ebd602>\"\u001b[0;36m, line \u001b[0;32m13\u001b[0m\n\u001b[0;31m    else:\u001b[0m\n\u001b[0m       ^\u001b[0m\n\u001b[0;31mSyntaxError\u001b[0m\u001b[0;31m:\u001b[0m invalid syntax\n"
          ]
        }
      ]
    },
    {
      "cell_type": "markdown",
      "metadata": {
        "id": "wh0WbFnMqadD"
      },
      "source": [
        "### Problem 4\n",
        "#### Bring it all together and use the defition created in probelm 3 to soft trim all the sequence in \"seqList\"  Print the each list element followed by the trimmed sequence.  You do not need to trim the \"Quality line\" itself.\n"
      ]
    },
    {
      "cell_type": "code",
      "metadata": {
        "id": "WZspvd_KypM9",
        "colab": {
          "base_uri": "https://localhost:8080/",
          "height": 133
        },
        "outputId": "7a43f6db-2a90-45f4-899f-2cbbbdab2360"
      },
      "source": [
        "i=1 #use a counter to track your progress\n",
        "#create a loop to go through each element in the list\n",
        " for i in seqList:\n",
        "   truncateBasedOnQScore(i)\n",
        "    print(\"\\n Processing Sequence:\" + str(i))\n",
        "    #print the elements in the list\n",
        "   \n",
        "    #do the soft trimming using your definition from problem 3\n",
        "\n",
        "    #print the trimmed sequence\n",
        "\n",
        "    i += 1\n"
      ],
      "execution_count": 19,
      "outputs": [
        {
          "output_type": "error",
          "ename": "IndentationError",
          "evalue": "ignored",
          "traceback": [
            "\u001b[0;36m  File \u001b[0;32m\"<ipython-input-19-20e205f96a39>\"\u001b[0;36m, line \u001b[0;32m3\u001b[0m\n\u001b[0;31m    for i in seqList:\u001b[0m\n\u001b[0m    ^\u001b[0m\n\u001b[0;31mIndentationError\u001b[0m\u001b[0;31m:\u001b[0m unexpected indent\n"
          ]
        }
      ]
    }
  ]
}