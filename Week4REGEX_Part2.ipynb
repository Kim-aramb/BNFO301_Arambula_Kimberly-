{
  "nbformat": 4,
  "nbformat_minor": 0,
  "metadata": {
    "kernelspec": {
      "display_name": "Python 3",
      "language": "python",
      "name": "python3"
    },
    "language_info": {
      "codemirror_mode": {
        "name": "ipython",
        "version": 3
      },
      "file_extension": ".py",
      "mimetype": "text/x-python",
      "name": "python",
      "nbconvert_exporter": "python",
      "pygments_lexer": "ipython3",
      "version": "3.7.4"
    },
    "colab": {
      "name": "Week4REGEX_Part2.ipynb",
      "provenance": [],
      "collapsed_sections": [],
      "include_colab_link": true
    }
  },
  "cells": [
    {
      "cell_type": "markdown",
      "metadata": {
        "id": "view-in-github",
        "colab_type": "text"
      },
      "source": [
        "<a href=\"https://colab.research.google.com/github/Kim-aramb/BNFO301_Arambula_Kimberly-/blob/main/Week4REGEX_Part2.ipynb\" target=\"_parent\"><img src=\"https://colab.research.google.com/assets/colab-badge.svg\" alt=\"Open In Colab\"/></a>"
      ]
    },
    {
      "cell_type": "markdown",
      "metadata": {
        "id": "CV8ltn7IuWLR"
      },
      "source": [
        "<h1>BNFO301 Lab Assignment Regex part 2: Continutation of Python Regex Module</h1>\n",
        "\n",
        "This week's assignment is designed to refresh, teach and, test your knowledge of the basics of Python regex module functions and capabilities. This week we will take it further. Students will apply regex basics to finding degenerate primers.\n",
        "\n",
        "**Helpful Resources:**\n",
        "1. Re (Regex) documentation- https://docs.python.org/3/library/re.html\n",
        "2. Handy tool to build/test regular expression - https://regex101.com/ \n",
        "3. Tutorial - http://justinbois.github.io/bootcamp/2015/lessons/l16_regular_expressions.html\n",
        "\n",
        "Grading: attendance = 4 points; question 1 = 6 points"
      ]
    },
    {
      "cell_type": "markdown",
      "metadata": {
        "id": "CM7DEBptKwuv"
      },
      "source": [
        "### Part 0- Setup (Provided code)\n",
        "Read the Genbank Sample Data File "
      ]
    },
    {
      "cell_type": "code",
      "metadata": {
        "id": "gjQcjXJLuWLV",
        "outputId": "66b4e1b2-b4d9-4818-cbbb-b6bb34db6a55",
        "colab": {
          "base_uri": "https://localhost:8080/"
        }
      },
      "source": [
        "import re # python regex module\n",
        "import os.path\n",
        "\n",
        "#Read the sequence file\n",
        "DATA_FILE_GITHUB = \"https://raw.githubusercontent.com/MusBansal/BNFO301Data/main/primersequencewhole.txt\"\n",
        "DEFAULT_FILE_NAME = 'primersequencewhole.txt'\n",
        "\n",
        "fileName = DEFAULT_FILE_NAME\n",
        "#Does the file exists locally, if not get it from the github\n",
        "if not os.path.exists(fileName):\n",
        "  #Load the file from Github to the local folder\n",
        "  !wget --no-check-certificate --content-disposition $DATA_FILE_GITHUB\n",
        "   \n",
        "print(\"Reading file:\", fileName)"
      ],
      "execution_count": 1,
      "outputs": [
        {
          "output_type": "stream",
          "name": "stdout",
          "text": [
            "--2022-02-18 04:32:49--  https://raw.githubusercontent.com/MusBansal/BNFO301Data/main/primersequencewhole.txt\n",
            "Resolving raw.githubusercontent.com (raw.githubusercontent.com)... 185.199.108.133, 185.199.109.133, 185.199.110.133, ...\n",
            "Connecting to raw.githubusercontent.com (raw.githubusercontent.com)|185.199.108.133|:443... connected.\n",
            "HTTP request sent, awaiting response... 200 OK\n",
            "Length: 582665 (569K) [text/plain]\n",
            "Saving to: ‘primersequencewhole.txt’\n",
            "\n",
            "primersequencewhole 100%[===================>] 569.01K  --.-KB/s    in 0.05s   \n",
            "\n",
            "2022-02-18 04:32:49 (10.3 MB/s) - ‘primersequencewhole.txt’ saved [582665/582665]\n",
            "\n",
            "Reading file: primersequencewhole.txt\n"
          ]
        }
      ]
    },
    {
      "cell_type": "markdown",
      "metadata": {
        "id": "wh0WbFnMqadD"
      },
      "source": [
        "### Q 1. Testing degenerative primers: <br>\n",
        "<br>\n",
        "PCR is a commonly used tool to isolate short regions of a genome.  PCR requires the use of primers, short sequences of DNA that bind to specific sites in a genome.  It is important to test primers, to determine if they will bind to more than one site in a genome.  Here you will use regex to identify matches to each of the four primers.  Please note that the primers are degenerate, which means that the primer will be mixed (e.g. some primers may have an A at a given site, while the others of a C)  You will be provided with a fasta file.  Please examine this file carefully to determine if you need to remove new line characters before identifying primer matches.\n",
        "\n",
        "* M-1B, 5′-agagtttgatmcacc-3′ (M -> A or C)\n",
        "* M-2B, 5′-ctgctgcsycc-3′ (Y -> C or T), (S -> G or C) \n",
        "* M-3B, 5′-gcaacgaa3′\n",
        "* M-4B, 5′-ggcggtgtgtrc-3′ (R->A or G)\n",
        "\n",
        "<br>\n",
        "For reference, **this is what your output should look like** : you should get 1,2,5,2 matches respectively to each primer"
      ]
    },
    {
      "cell_type": "code",
      "metadata": {
        "id": "WZspvd_KypM9",
        "outputId": "754f62f4-669f-4c4f-e1dc-ad4408b4b2dc",
        "colab": {
          "base_uri": "https://localhost:8080/",
          "height": 514
        }
      },
      "source": [
        "#create function to remove header lines using regex (\"that starts with >\")\n",
        "######################\n",
        "def removeHeaders(data):\n",
        "  #create a pattern to match headers\n",
        "  pattern = \">.*\"\n",
        "\n",
        "  # Compile a search string\n",
        "  regex = re.compile(pattern)\n",
        "  return regex.sub('', data)\n",
        "\n",
        "# Read in the file using with \n",
        "with open(fileName, \"r\") as myfile:\n",
        "  my_input = myfile.read()\n",
        "\n",
        "#remove headers\n",
        "my_input = removeHeaders(my_input)\n",
        "\n",
        "\n",
        "#Since the file contains newlines, remove all the newlines\n",
        "#this pattern should look for all the newline/tabs etc.\n",
        "pattern = \"\\n\"\n",
        "\n",
        "# Compile our search string\n",
        "regex = re.compile(pattern)\n",
        "\n",
        "\n",
        "# Get a list of all the sequences\n",
        "my_input = regex.sub(\"\",my_input)\n",
        "my_input = my_input.upper()\n",
        "# output\n",
        "output = my_input\n",
        "\n",
        "\n",
        "#create function to find the primers, count how many times they match and where they match\n",
        "def findSequences(pattern,data):\n",
        "  count = 0\n",
        "  #use finditer to identify matches and their locations, along with counting the total number of matches for each primer\n",
        "  for match in re.finditer(pattern,data):\n",
        "    count += 1\n",
        "    # Start index of match (integer)\n",
        "    sStart = match.start()\n",
        "\n",
        "    # Final index of match (integer)\n",
        "    sEnd = match.end()\n",
        "\n",
        "    # Complete match (string)\n",
        "    sGroup = \"Match: %a at %d:%d\" % (data[sStart:sEnd], sStart,sEnd)\n",
        "\n",
        "    # Print match\n",
        "    print (sGroup)\n",
        "  return count\n",
        "\n",
        "# Set up your primer patterns\n",
        "\n",
        "#1. Finding the pattern \"agagtttgatmcacc\"\n",
        "#(?i) - ignores the case, m can be a or c -> [ac]\n",
        "pattern = \"agagtttgat(a|c)cacc\".upper()\n",
        "print('Total Sequences Found:', findSequences(pattern,output))\n",
        "\n",
        "#2. Finding the pattern \"ctgctgcsycc\" \n",
        "#y can be c or t -> [ct]\n",
        "pattern = \"ctgctgcs(c|t)cc\".upper()\n",
        "print('Total Sequences Found:', findSequences(pattern,output))\n",
        "\n",
        "#3. Finding the pattern \"gcaacgaa\" \n",
        "pattern = \"gcaacgaa\" .upper()\n",
        "print('Total Sequences Found:', findSequences(pattern,output))\n",
        "\n",
        "#4. Finding the pattern \"(?i)ggcggtgtgt[ag]c\" \n",
        "#r can be a or g -> [ag]\n",
        "pattern = \"(?i)ggcggtgtgt[ag]c\" .upper()\n",
        "print('Total Sequences Found:', findSequences(pattern,output))\n"
      ],
      "execution_count": 8,
      "outputs": [
        {
          "output_type": "stream",
          "name": "stdout",
          "text": [
            "Match: 'AGAGTTTGATACACC' at 5418:5433\n",
            "Total Sequences Found: 1\n",
            "Total Sequences Found: 0\n",
            "Match: 'GCAACGAA' at 73955:73963\n",
            "Match: 'GCAACGAA' at 92807:92815\n",
            "Match: 'GCAACGAA' at 162554:162562\n",
            "Match: 'GCAACGAA' at 192590:192598\n",
            "Match: 'GCAACGAA' at 482871:482879\n",
            "Total Sequences Found: 5\n"
          ]
        },
        {
          "output_type": "error",
          "ename": "error",
          "evalue": "ignored",
          "traceback": [
            "\u001b[0;31m---------------------------------------------------------------------------\u001b[0m",
            "\u001b[0;31merror\u001b[0m                                     Traceback (most recent call last)",
            "\u001b[0;32m<ipython-input-8-76a127571e4e>\u001b[0m in \u001b[0;36m<module>\u001b[0;34m()\u001b[0m\n\u001b[1;32m     70\u001b[0m \u001b[0;31m#r can be a or g -> [ag]\u001b[0m\u001b[0;34m\u001b[0m\u001b[0;34m\u001b[0m\u001b[0;34m\u001b[0m\u001b[0m\n\u001b[1;32m     71\u001b[0m \u001b[0mpattern\u001b[0m \u001b[0;34m=\u001b[0m \u001b[0;34m\"(?i)ggcggtgtgt[ag]c\"\u001b[0m \u001b[0;34m.\u001b[0m\u001b[0mupper\u001b[0m\u001b[0;34m(\u001b[0m\u001b[0;34m)\u001b[0m\u001b[0;34m\u001b[0m\u001b[0;34m\u001b[0m\u001b[0m\n\u001b[0;32m---> 72\u001b[0;31m \u001b[0mprint\u001b[0m\u001b[0;34m(\u001b[0m\u001b[0;34m'Total Sequences Found:'\u001b[0m\u001b[0;34m,\u001b[0m \u001b[0mfindSequences\u001b[0m\u001b[0;34m(\u001b[0m\u001b[0mpattern\u001b[0m\u001b[0;34m,\u001b[0m\u001b[0moutput\u001b[0m\u001b[0;34m)\u001b[0m\u001b[0;34m)\u001b[0m\u001b[0;34m\u001b[0m\u001b[0;34m\u001b[0m\u001b[0m\n\u001b[0m",
            "\u001b[0;32m<ipython-input-8-76a127571e4e>\u001b[0m in \u001b[0;36mfindSequences\u001b[0;34m(pattern, data)\u001b[0m\n\u001b[1;32m     36\u001b[0m   \u001b[0mcount\u001b[0m \u001b[0;34m=\u001b[0m \u001b[0;36m0\u001b[0m\u001b[0;34m\u001b[0m\u001b[0;34m\u001b[0m\u001b[0m\n\u001b[1;32m     37\u001b[0m   \u001b[0;31m#use finditer to identify matches and their locations, along with counting the total number of matches for each primer\u001b[0m\u001b[0;34m\u001b[0m\u001b[0;34m\u001b[0m\u001b[0;34m\u001b[0m\u001b[0m\n\u001b[0;32m---> 38\u001b[0;31m   \u001b[0;32mfor\u001b[0m \u001b[0mmatch\u001b[0m \u001b[0;32min\u001b[0m \u001b[0mre\u001b[0m\u001b[0;34m.\u001b[0m\u001b[0mfinditer\u001b[0m\u001b[0;34m(\u001b[0m\u001b[0mpattern\u001b[0m\u001b[0;34m,\u001b[0m\u001b[0mdata\u001b[0m\u001b[0;34m)\u001b[0m\u001b[0;34m:\u001b[0m\u001b[0;34m\u001b[0m\u001b[0;34m\u001b[0m\u001b[0m\n\u001b[0m\u001b[1;32m     39\u001b[0m     \u001b[0mcount\u001b[0m \u001b[0;34m+=\u001b[0m \u001b[0;36m1\u001b[0m\u001b[0;34m\u001b[0m\u001b[0;34m\u001b[0m\u001b[0m\n\u001b[1;32m     40\u001b[0m     \u001b[0;31m# Start index of match (integer)\u001b[0m\u001b[0;34m\u001b[0m\u001b[0;34m\u001b[0m\u001b[0;34m\u001b[0m\u001b[0m\n",
            "\u001b[0;32m/usr/lib/python3.7/re.py\u001b[0m in \u001b[0;36mfinditer\u001b[0;34m(pattern, string, flags)\u001b[0m\n\u001b[1;32m    230\u001b[0m \u001b[0;34m\u001b[0m\u001b[0m\n\u001b[1;32m    231\u001b[0m     Empty matches are included in the result.\"\"\"\n\u001b[0;32m--> 232\u001b[0;31m     \u001b[0;32mreturn\u001b[0m \u001b[0m_compile\u001b[0m\u001b[0;34m(\u001b[0m\u001b[0mpattern\u001b[0m\u001b[0;34m,\u001b[0m \u001b[0mflags\u001b[0m\u001b[0;34m)\u001b[0m\u001b[0;34m.\u001b[0m\u001b[0mfinditer\u001b[0m\u001b[0;34m(\u001b[0m\u001b[0mstring\u001b[0m\u001b[0;34m)\u001b[0m\u001b[0;34m\u001b[0m\u001b[0;34m\u001b[0m\u001b[0m\n\u001b[0m\u001b[1;32m    233\u001b[0m \u001b[0;34m\u001b[0m\u001b[0m\n\u001b[1;32m    234\u001b[0m \u001b[0;32mdef\u001b[0m \u001b[0mcompile\u001b[0m\u001b[0;34m(\u001b[0m\u001b[0mpattern\u001b[0m\u001b[0;34m,\u001b[0m \u001b[0mflags\u001b[0m\u001b[0;34m=\u001b[0m\u001b[0;36m0\u001b[0m\u001b[0;34m)\u001b[0m\u001b[0;34m:\u001b[0m\u001b[0;34m\u001b[0m\u001b[0;34m\u001b[0m\u001b[0m\n",
            "\u001b[0;32m/usr/lib/python3.7/re.py\u001b[0m in \u001b[0;36m_compile\u001b[0;34m(pattern, flags)\u001b[0m\n\u001b[1;32m    286\u001b[0m     \u001b[0;32mif\u001b[0m \u001b[0;32mnot\u001b[0m \u001b[0msre_compile\u001b[0m\u001b[0;34m.\u001b[0m\u001b[0misstring\u001b[0m\u001b[0;34m(\u001b[0m\u001b[0mpattern\u001b[0m\u001b[0;34m)\u001b[0m\u001b[0;34m:\u001b[0m\u001b[0;34m\u001b[0m\u001b[0;34m\u001b[0m\u001b[0m\n\u001b[1;32m    287\u001b[0m         \u001b[0;32mraise\u001b[0m \u001b[0mTypeError\u001b[0m\u001b[0;34m(\u001b[0m\u001b[0;34m\"first argument must be string or compiled pattern\"\u001b[0m\u001b[0;34m)\u001b[0m\u001b[0;34m\u001b[0m\u001b[0;34m\u001b[0m\u001b[0m\n\u001b[0;32m--> 288\u001b[0;31m     \u001b[0mp\u001b[0m \u001b[0;34m=\u001b[0m \u001b[0msre_compile\u001b[0m\u001b[0;34m.\u001b[0m\u001b[0mcompile\u001b[0m\u001b[0;34m(\u001b[0m\u001b[0mpattern\u001b[0m\u001b[0;34m,\u001b[0m \u001b[0mflags\u001b[0m\u001b[0;34m)\u001b[0m\u001b[0;34m\u001b[0m\u001b[0;34m\u001b[0m\u001b[0m\n\u001b[0m\u001b[1;32m    289\u001b[0m     \u001b[0;32mif\u001b[0m \u001b[0;32mnot\u001b[0m \u001b[0;34m(\u001b[0m\u001b[0mflags\u001b[0m \u001b[0;34m&\u001b[0m \u001b[0mDEBUG\u001b[0m\u001b[0;34m)\u001b[0m\u001b[0;34m:\u001b[0m\u001b[0;34m\u001b[0m\u001b[0;34m\u001b[0m\u001b[0m\n\u001b[1;32m    290\u001b[0m         \u001b[0;32mif\u001b[0m \u001b[0mlen\u001b[0m\u001b[0;34m(\u001b[0m\u001b[0m_cache\u001b[0m\u001b[0;34m)\u001b[0m \u001b[0;34m>=\u001b[0m \u001b[0m_MAXCACHE\u001b[0m\u001b[0;34m:\u001b[0m\u001b[0;34m\u001b[0m\u001b[0;34m\u001b[0m\u001b[0m\n",
            "\u001b[0;32m/usr/lib/python3.7/sre_compile.py\u001b[0m in \u001b[0;36mcompile\u001b[0;34m(p, flags)\u001b[0m\n\u001b[1;32m    762\u001b[0m     \u001b[0;32mif\u001b[0m \u001b[0misstring\u001b[0m\u001b[0;34m(\u001b[0m\u001b[0mp\u001b[0m\u001b[0;34m)\u001b[0m\u001b[0;34m:\u001b[0m\u001b[0;34m\u001b[0m\u001b[0;34m\u001b[0m\u001b[0m\n\u001b[1;32m    763\u001b[0m         \u001b[0mpattern\u001b[0m \u001b[0;34m=\u001b[0m \u001b[0mp\u001b[0m\u001b[0;34m\u001b[0m\u001b[0;34m\u001b[0m\u001b[0m\n\u001b[0;32m--> 764\u001b[0;31m         \u001b[0mp\u001b[0m \u001b[0;34m=\u001b[0m \u001b[0msre_parse\u001b[0m\u001b[0;34m.\u001b[0m\u001b[0mparse\u001b[0m\u001b[0;34m(\u001b[0m\u001b[0mp\u001b[0m\u001b[0;34m,\u001b[0m \u001b[0mflags\u001b[0m\u001b[0;34m)\u001b[0m\u001b[0;34m\u001b[0m\u001b[0;34m\u001b[0m\u001b[0m\n\u001b[0m\u001b[1;32m    765\u001b[0m     \u001b[0;32melse\u001b[0m\u001b[0;34m:\u001b[0m\u001b[0;34m\u001b[0m\u001b[0;34m\u001b[0m\u001b[0m\n\u001b[1;32m    766\u001b[0m         \u001b[0mpattern\u001b[0m \u001b[0;34m=\u001b[0m \u001b[0;32mNone\u001b[0m\u001b[0;34m\u001b[0m\u001b[0;34m\u001b[0m\u001b[0m\n",
            "\u001b[0;32m/usr/lib/python3.7/sre_parse.py\u001b[0m in \u001b[0;36mparse\u001b[0;34m(str, flags, pattern)\u001b[0m\n\u001b[1;32m    922\u001b[0m \u001b[0;34m\u001b[0m\u001b[0m\n\u001b[1;32m    923\u001b[0m     \u001b[0;32mtry\u001b[0m\u001b[0;34m:\u001b[0m\u001b[0;34m\u001b[0m\u001b[0;34m\u001b[0m\u001b[0m\n\u001b[0;32m--> 924\u001b[0;31m         \u001b[0mp\u001b[0m \u001b[0;34m=\u001b[0m \u001b[0m_parse_sub\u001b[0m\u001b[0;34m(\u001b[0m\u001b[0msource\u001b[0m\u001b[0;34m,\u001b[0m \u001b[0mpattern\u001b[0m\u001b[0;34m,\u001b[0m \u001b[0mflags\u001b[0m \u001b[0;34m&\u001b[0m \u001b[0mSRE_FLAG_VERBOSE\u001b[0m\u001b[0;34m,\u001b[0m \u001b[0;36m0\u001b[0m\u001b[0;34m)\u001b[0m\u001b[0;34m\u001b[0m\u001b[0;34m\u001b[0m\u001b[0m\n\u001b[0m\u001b[1;32m    925\u001b[0m     \u001b[0;32mexcept\u001b[0m \u001b[0mVerbose\u001b[0m\u001b[0;34m:\u001b[0m\u001b[0;34m\u001b[0m\u001b[0;34m\u001b[0m\u001b[0m\n\u001b[1;32m    926\u001b[0m         \u001b[0;31m# the VERBOSE flag was switched on inside the pattern.  to be\u001b[0m\u001b[0;34m\u001b[0m\u001b[0;34m\u001b[0m\u001b[0;34m\u001b[0m\u001b[0m\n",
            "\u001b[0;32m/usr/lib/python3.7/sre_parse.py\u001b[0m in \u001b[0;36m_parse_sub\u001b[0;34m(source, state, verbose, nested)\u001b[0m\n\u001b[1;32m    418\u001b[0m     \u001b[0;32mwhile\u001b[0m \u001b[0;32mTrue\u001b[0m\u001b[0;34m:\u001b[0m\u001b[0;34m\u001b[0m\u001b[0;34m\u001b[0m\u001b[0m\n\u001b[1;32m    419\u001b[0m         itemsappend(_parse(source, state, verbose, nested + 1,\n\u001b[0;32m--> 420\u001b[0;31m                            not nested and not items))\n\u001b[0m\u001b[1;32m    421\u001b[0m         \u001b[0;32mif\u001b[0m \u001b[0;32mnot\u001b[0m \u001b[0msourcematch\u001b[0m\u001b[0;34m(\u001b[0m\u001b[0;34m\"|\"\u001b[0m\u001b[0;34m)\u001b[0m\u001b[0;34m:\u001b[0m\u001b[0;34m\u001b[0m\u001b[0;34m\u001b[0m\u001b[0m\n\u001b[1;32m    422\u001b[0m             \u001b[0;32mbreak\u001b[0m\u001b[0;34m\u001b[0m\u001b[0;34m\u001b[0m\u001b[0m\n",
            "\u001b[0;32m/usr/lib/python3.7/sre_parse.py\u001b[0m in \u001b[0;36m_parse\u001b[0;34m(source, state, verbose, nested, first)\u001b[0m\n\u001b[1;32m    798\u001b[0m                 \u001b[0;32melse\u001b[0m\u001b[0;34m:\u001b[0m\u001b[0;34m\u001b[0m\u001b[0;34m\u001b[0m\u001b[0m\n\u001b[1;32m    799\u001b[0m                     raise source.error(\"unknown extension ?\" + char,\n\u001b[0;32m--> 800\u001b[0;31m                                        len(char) + 1)\n\u001b[0m\u001b[1;32m    801\u001b[0m \u001b[0;34m\u001b[0m\u001b[0m\n\u001b[1;32m    802\u001b[0m             \u001b[0;31m# parse group contents\u001b[0m\u001b[0;34m\u001b[0m\u001b[0;34m\u001b[0m\u001b[0;34m\u001b[0m\u001b[0m\n",
            "\u001b[0;31merror\u001b[0m: unknown extension ?I at position 1"
          ]
        }
      ]
    }
  ]
}